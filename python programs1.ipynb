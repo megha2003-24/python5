{
  "metadata": {
    "kernelspec": {
      "name": "python",
      "display_name": "Python (Pyodide)",
      "language": "python"
    },
    "language_info": {
      "codemirror_mode": {
        "name": "python",
        "version": 3
      },
      "file_extension": ".py",
      "mimetype": "text/x-python",
      "name": "python",
      "nbconvert_exporter": "python",
      "pygments_lexer": "ipython3",
      "version": "3.8"
    }
  },
  "nbformat_minor": 4,
  "nbformat": 4,
  "cells": [
    {
      "cell_type": "code",
      "source": "#module 1.1\nclass Employee:\n    company_name = 'ABC Company' \n\n    def __init__(self, name, salary):  \n        self.name = name\n        self.salary = salary \n\n    def show(self):\n        print('Employee:', self.name, self.salary, self.company_name)\nemp1.show()\n\nemp2 = Employee(\"Emma\", 10000)\nemp2.show()\n",
      "metadata": {
        "trusted": true
      },
      "outputs": [
        {
          "name": "stdout",
          "text": "Employee: Harry 12000 ABC Company\nEmployee: Emma 10000 ABC Company\n",
          "output_type": "stream"
        }
      ],
      "execution_count": 8
    },
    {
      "cell_type": "code",
      "source": "#Module 1.2\nclass Employee:\n    def __init__(self, name, salary): \n        self.name = name\n        self._salary = salary\n\n    def show(self):\n        print(\"Name is\", self.name, \"and salary is\", self._salary)\n\nemp = Employee(\"Jessa\", 40000)\nemp.show()\nprint(emp._salary)\n",
      "metadata": {
        "trusted": true
      },
      "outputs": [
        {
          "name": "stdout",
          "text": "Name is Jessa and salary is 40000\n40000\n",
          "output_type": "stream"
        }
      ],
      "execution_count": 10
    },
    {
      "cell_type": "code",
      "source": "#polymorphism\nclass Circle:\n    pi = 3.14\n    \n    def __init__(self, radius):  \n        self.radius = radius\n\n    def calculate_area(self):\n        print(\"Area of circle:\", self.pi * self.radius * self.radius)\n\nclass Rectangle:\n    def __init__(self, length, width): \n        self.length = length\n        self.width = width\n\n    def calculate_area(self):\n        print(\"Area of Rectangle:\", self.length * self.width)\n\ndef area(shape):\n    shape.calculate_area()\n\ncir = Circle(5)\nrect = Rectangle(10, 5)\n\narea(cir)\narea(rect)\n",
      "metadata": {
        "trusted": true
      },
      "outputs": [
        {
          "name": "stdout",
          "text": "Area of circle: 78.5\nArea of Rectangle: 50\n",
          "output_type": "stream"
        }
      ],
      "execution_count": 12
    },
    {
      "cell_type": "code",
      "source": "\nclass Vehicle:\n    def __init__(self, name, color, price):\n        self.name = name\n        self.color = color\n        self.price = price\n\n    def info(self):\n        print(self.name, self.color, self.price)\n\nclass Car(Vehicle):\n    def change_gear(self, no):\n        print(self.name, 'changes gear to number', no)\n\n# Create object of Car\ncar = Car('BMW X1', 'Black', 35000)\ncar.info()\ncar.change_gear(5)\n",
      "metadata": {
        "trusted": true
      },
      "outputs": [
        {
          "name": "stdout",
          "text": "BMW X1 Black 35000\nBMW X1 changes gear to number 5\n",
          "output_type": "stream"
        }
      ],
      "execution_count": 13
    },
    {
      "cell_type": "code",
      "source": "#a simple counter that increments by 1 and allows changing the value of the internal counter.\ndef counter(maximum):\n    i = 0\n    while i < maximum:\n        val = (yield i)  \n\n        \n        if val is not None:\n            i = val\n        else:\n            i += 1\n",
      "metadata": {
        "trusted": true
      },
      "outputs": [],
      "execution_count": 14
    },
    {
      "cell_type": "code",
      "source": "#Numpy\nimport numpy as np\nx=np.random.randint(10,30,6)\nprint(x)",
      "metadata": {
        "trusted": true
      },
      "outputs": [
        {
          "name": "stdout",
          "text": "[27 25 27 16 10 15]\n",
          "output_type": "stream"
        }
      ],
      "execution_count": 15
    },
    {
      "cell_type": "code",
      "source": "import numpy as np\nx=np.random.random((10,5))\nprint(x)\nnew=x[:5]\nprint(\"New array=\",new)",
      "metadata": {
        "trusted": true
      },
      "outputs": [
        {
          "name": "stdout",
          "text": "[[0.62417187 0.26976575 0.16580524 0.14824141 0.75917656]\n [0.12274187 0.87076401 0.15939465 0.16245522 0.96750397]\n [0.85711225 0.70324038 0.32441737 0.21844199 0.58730831]\n [0.29834035 0.75706156 0.07626642 0.18021305 0.31397457]\n [0.51121686 0.78273326 0.18743182 0.11838632 0.62552314]\n [0.58583157 0.90544849 0.92490682 0.41660924 0.0574585 ]\n [0.86453075 0.45909467 0.62925819 0.5918376  0.56836866]\n [0.91421638 0.42787716 0.09352867 0.48985817 0.86172612]\n [0.4908852  0.41959588 0.28567562 0.97616547 0.73157938]\n [0.59049223 0.50760273 0.25169001 0.82655621 0.95529182]]\nNew array= [[0.62417187 0.26976575 0.16580524 0.14824141 0.75917656]\n [0.12274187 0.87076401 0.15939465 0.16245522 0.96750397]\n [0.85711225 0.70324038 0.32441737 0.21844199 0.58730831]\n [0.29834035 0.75706156 0.07626642 0.18021305 0.31397457]\n [0.51121686 0.78273326 0.18743182 0.11838632 0.62552314]]\n",
          "output_type": "stream"
        }
      ],
      "execution_count": 16
    },
    {
      "cell_type": "code",
      "source": "import numpy as np\nx=np.random.random((5,5))\nprint(x)\nmax,min=x.max(),x.min()\nprint(\"Highest=\",max,\"Lowest=\",min)",
      "metadata": {
        "trusted": true
      },
      "outputs": [
        {
          "name": "stdout",
          "text": "[[0.89726851 0.47056584 0.05390577 0.18064896 0.95384868]\n [0.13270654 0.73491847 0.27124927 0.6260837  0.50449008]\n [0.59536068 0.69919104 0.5863918  0.9970022  0.17218431]\n [0.09758967 0.17103129 0.03203774 0.85126372 0.1589967 ]\n [0.80621158 0.35297142 0.39576761 0.63031664 0.78559274]]\nHighest= 0.9970022028218134 Lowest= 0.03203773677488886\n",
          "output_type": "stream"
        }
      ],
      "execution_count": 17
    },
    {
      "cell_type": "code",
      "source": "import numpy as np\nx=np.arange(1,11)\nprint(x)\nnp.random.shuffle(x)\nprint(x)",
      "metadata": {
        "trusted": true
      },
      "outputs": [
        {
          "name": "stdout",
          "text": "[ 1  2  3  4  5  6  7  8  9 10]\n[ 7  8  2  3 10  1  5  6  4  9]\n",
          "output_type": "stream"
        }
      ],
      "execution_count": 18
    },
    {
      "cell_type": "code",
      "source": "",
      "metadata": {
        "trusted": true
      },
      "outputs": [],
      "execution_count": null
    }
  ]
}